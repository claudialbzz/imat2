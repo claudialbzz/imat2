{
 "cells": [
  {
   "cell_type": "code",
   "execution_count": 1,
   "id": "b7f4d47b-b400-49b8-870c-8b0b9ae78019",
   "metadata": {},
   "outputs": [
    {
     "name": "stderr",
     "output_type": "stream",
     "text": [
      "/var/folders/zx/57z_g0c14095702lbtyqdbx00000gn/T/ipykernel_18156/1662815981.py:2: DeprecationWarning: \n",
      "Pyarrow will become a required dependency of pandas in the next major release of pandas (pandas 3.0),\n",
      "(to allow more performant data types, such as the Arrow string type, and better interoperability with other libraries)\n",
      "but was not found to be installed on your system.\n",
      "If this would cause problems for you,\n",
      "please provide us feedback at https://github.com/pandas-dev/pandas/issues/54466\n",
      "        \n",
      "  import pandas as pd\n"
     ]
    }
   ],
   "source": [
    "import numpy as np\n",
    "import pandas as pd"
   ]
  },
  {
   "cell_type": "markdown",
   "id": "4c5b9aa7-c34d-4260-8847-6029e5202796",
   "metadata": {},
   "source": [
    "# Ejercicios\n",
    "\n",
    "Considere el siguiente diccionario `data` y lista de `index`."
   ]
  },
  {
   "cell_type": "code",
   "execution_count": 3,
   "id": "0c69bedc-280e-48a7-a371-df46abfe90d5",
   "metadata": {},
   "outputs": [],
   "source": [
    "data = {'children': ['Susan', 'Susan', 'Jeremy', 'Monique', 'Monique', 'Susan', 'Jeremy', 'Susan', 'Monique', 'Monique'],\n",
    "        'grades': [2.5, 3, 0.5, np.nan, 5, 2, 4.5, np.nan, 7, 3],\n",
    "        'visits': [1, 3, 2, 3, 5, 3, 1, 0, 2, 1],\n",
    "        'priority': ['yes', 'yes', 'no', 'yes', 'no', 'no', 'no', 'yes', 'no', 'no']}\n",
    "\n",
    "labels = ['a', 'b', 'c', 'd', 'e', 'f', 'g', 'h', 'i', 'j']"
   ]
  },
  {
   "cell_type": "markdown",
   "id": "1f09a531-4e1f-4401-8d9c-ce1facd50442",
   "metadata": {},
   "source": [
    "- a. Crea un DataFrame a partir del diccionario y los índices.\n",
    "- b. Muestra las 2 primeras filas y las dos últimas del DataFrame.\n",
    "- c. Selecciona las columnas `children`y `grades`.\n",
    "- d. Indica cuántos niños hay (se asume que no se repiten nombres).\n",
    "- e. Indica cuántos registros hay en el DataFrame para cada niño.\n",
    "- f. Muestra un resumen estadístico de todas las variables.\n",
    "- g. Indica el número máximo y mínimo de visitas.\n",
    "- h. Muestra qué tipo de datos contiene cada columna"
   ]
  },
  {
   "cell_type": "markdown",
   "id": "ff8f7fab-b662-4a63-9f8d-4633f23b5935",
   "metadata": {},
   "source": [
    "------------------------------------\n",
    "\n",
    "##### Solución Ejercicio "
   ]
  },
  {
   "cell_type": "markdown",
   "id": "6d755650-99e6-4d82-b141-83114860e2eb",
   "metadata": {},
   "source": [
    "a) Crea un DataFrame a partir del diccionario y los índices."
   ]
  },
  {
   "cell_type": "code",
   "execution_count": 3,
   "id": "e0e22801-0b6d-4dcd-b953-b63910d5d03a",
   "metadata": {},
   "outputs": [],
   "source": [
    "# Respuesta\n"
   ]
  },
  {
   "cell_type": "markdown",
   "id": "b8efe459-7adb-4383-a678-c401f993c6d7",
   "metadata": {},
   "source": [
    "b) Muestra las 2 primeras filas y las dos últimas del DataFrame."
   ]
  },
  {
   "cell_type": "code",
   "execution_count": 4,
   "id": "756ef10b-cd1a-4aba-867e-97e4c8bf78a2",
   "metadata": {},
   "outputs": [],
   "source": [
    "# Respuesta\n"
   ]
  },
  {
   "cell_type": "code",
   "execution_count": 5,
   "id": "fcf02484-abe3-4e39-9396-0defe9b9c384",
   "metadata": {},
   "outputs": [],
   "source": [
    "# Respuesta\n"
   ]
  },
  {
   "cell_type": "markdown",
   "id": "56b03736-a8f9-4ec8-b903-715e5274edbb",
   "metadata": {},
   "source": [
    "c) Selecciona las columnas `children`y `grades`.\n"
   ]
  },
  {
   "cell_type": "code",
   "execution_count": 4,
   "id": "157ec1d9-5d26-4ea4-babf-dfb721c4aa12",
   "metadata": {},
   "outputs": [],
   "source": [
    "# Respuesta\n"
   ]
  },
  {
   "cell_type": "markdown",
   "id": "3f0690c3-424b-4cf6-8425-535dd76698e1",
   "metadata": {},
   "source": [
    "d) Indica cuántos niños hay (se asume que no se repiten nombres).\n"
   ]
  },
  {
   "cell_type": "code",
   "execution_count": 7,
   "id": "60b459ad-bc2c-42f8-983a-9d051015f89c",
   "metadata": {},
   "outputs": [],
   "source": [
    "# Respuesta\n"
   ]
  },
  {
   "cell_type": "markdown",
   "id": "c8411c9a-731d-4467-bc67-6aa5e591185c",
   "metadata": {},
   "source": [
    "e) Indica cuántos registros hay en el DataFrame para cada niño.\n",
    "\n"
   ]
  },
  {
   "cell_type": "code",
   "execution_count": 5,
   "id": "0e9436a0-ddf1-4b37-9b04-ae45591c2e4c",
   "metadata": {},
   "outputs": [],
   "source": [
    "# Respuesta\n"
   ]
  },
  {
   "cell_type": "markdown",
   "id": "d042a34c-808a-431f-8410-54f386ea4693",
   "metadata": {},
   "source": [
    "f) Muestra un resumen estadístico de todas las variables.\n"
   ]
  },
  {
   "cell_type": "code",
   "execution_count": 6,
   "id": "3dc2d3c1-23dc-4ac1-9271-130721375ecf",
   "metadata": {},
   "outputs": [],
   "source": [
    "# Respuesta\n"
   ]
  },
  {
   "cell_type": "markdown",
   "id": "df2ceeb7-0a47-412e-a0be-1ce69dff6cce",
   "metadata": {},
   "source": [
    "g) Indica el número máximo y mínimo de visitas."
   ]
  },
  {
   "cell_type": "code",
   "execution_count": 10,
   "id": "22257684-67bb-43ea-94af-f7cbc6fadcdc",
   "metadata": {},
   "outputs": [],
   "source": [
    "# Respuesta\n"
   ]
  },
  {
   "cell_type": "markdown",
   "id": "b3c4b07a-e332-4a62-9e89-04a75b764641",
   "metadata": {},
   "source": [
    "h) Muestra qué tipo de datos contiene cada columna."
   ]
  },
  {
   "cell_type": "code",
   "execution_count": 11,
   "id": "07ef0e58-5d8f-4dc0-9591-5b9173c7a0ac",
   "metadata": {},
   "outputs": [],
   "source": [
    "# Respuesta\n"
   ]
  },
  {
   "cell_type": "code",
   "execution_count": 12,
   "id": "a9633a3e-a662-4cca-9f4c-96c44f2b44a6",
   "metadata": {},
   "outputs": [],
   "source": [
    "# Respuesta\n"
   ]
  }
 ],
 "metadata": {
  "kernelspec": {
   "display_name": "Python 3",
   "language": "python",
   "name": "python3"
  },
  "language_info": {
   "codemirror_mode": {
    "name": "ipython",
    "version": 3
   },
   "file_extension": ".py",
   "mimetype": "text/x-python",
   "name": "python",
   "nbconvert_exporter": "python",
   "pygments_lexer": "ipython3",
   "version": "3.12.1"
  }
 },
 "nbformat": 4,
 "nbformat_minor": 5
}
