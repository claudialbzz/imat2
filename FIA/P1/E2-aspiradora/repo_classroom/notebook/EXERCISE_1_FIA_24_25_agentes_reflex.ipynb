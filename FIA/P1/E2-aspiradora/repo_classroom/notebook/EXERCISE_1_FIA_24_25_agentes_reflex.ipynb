{
  "cells": [
    {
      "cell_type": "markdown",
      "metadata": {},
      "source": [
        "## Necessary imports"
      ]
    },
    {
      "cell_type": "code",
      "execution_count": 1,
      "metadata": {},
      "outputs": [],
      "source": [
        "import sys\n",
        "import os\n",
        "\n",
        "# Get the absolute path of the project root\n",
        "project_root = os.path.abspath(os.path.join(os.getcwd(), \"..\"))\n",
        "\n",
        "# Add it to sys.path\n",
        "sys.path.insert(0, project_root)\n",
        "\n",
        "from src.simulations import run_simulation_2_room, run_simulation_n_rooms, run_simulation_nxm_rooms"
      ]
    },
    {
      "cell_type": "markdown",
      "metadata": {
        "id": "SaEccUD2pB2v"
      },
      "source": [
        "### Check solution (2 rooms)"
      ]
    },
    {
      "cell_type": "code",
      "execution_count": null,
      "metadata": {
        "colab": {
          "base_uri": "https://localhost:8080/"
        },
        "id": "TZbmHRYvpDlD",
        "outputId": "0b7e2f79-9967-4fde-beb4-87b048e41b26"
      },
      "outputs": [],
      "source": [
        "\n",
        "# Run the simulation by calling the function\n",
        "# TODO: You must first implement the class ReflexAgent2Room in src/agents.py\n",
        "run_simulation_2_room()\n"
      ]
    },
    {
      "cell_type": "code",
      "execution_count": null,
      "metadata": {},
      "outputs": [],
      "source": [
        "# Run tests\n",
        "!python -m pytest tests/test_agents.py::test_2room_simulation_timeout -v"
      ]
    },
    {
      "cell_type": "markdown",
      "metadata": {
        "id": "9gO6rj4J8JHc"
      },
      "source": [
        "## Check the solution (n rooms)"
      ]
    },
    {
      "cell_type": "code",
      "execution_count": null,
      "metadata": {
        "colab": {
          "base_uri": "https://localhost:8080/"
        },
        "id": "WbWegE4-7-gm",
        "outputId": "b0fd7d61-8e46-43a9-90e8-2036dcbfebf6"
      },
      "outputs": [],
      "source": [
        "# Test the solution with 'n' rooms (e.g., n=8)\n",
        "# This loop runs the simulation 50 times for an environment with 8 rooms to test consistency\n",
        "# TODO: You must first implement the class MemoryAgentNRooms in src/agents.py\n",
        "for i in range(50):\n",
        "    run_simulation_n_rooms(8)  # Run the simulation for an 8-room environment\n"
      ]
    },
    {
      "cell_type": "code",
      "execution_count": null,
      "metadata": {},
      "outputs": [],
      "source": [
        "# Run test for n rooms\n",
        "!python -m pytest ../tests/test_agents.py::test_nroom_simulation_timeout -v"
      ]
    },
    {
      "cell_type": "markdown",
      "metadata": {
        "id": "jceqO5O48FMO"
      },
      "source": [
        "## Check the solution (n x m rooms)"
      ]
    },
    {
      "cell_type": "code",
      "execution_count": null,
      "metadata": {
        "id": "eYG09pzu8HNP"
      },
      "outputs": [],
      "source": [
        "# Test the solution with an n x m room environment (e.g., n=5, m=6)\n",
        "# This loop runs the simulation multiple times to test behavior in different random configurations\n",
        "# TODO: You must first implement the class MemoryAgentNXNRooms in src/agents.py\n",
        "for i in range(220):\n",
        "    run_simulation_nxm_rooms(5, 6)  # Run the simulation for a 5x6 grid environment\n"
      ]
    },
    {
      "cell_type": "code",
      "execution_count": null,
      "metadata": {},
      "outputs": [],
      "source": [
        "# Run test for nxm rooms\n",
        "!python -m pytest tests/test_agents.py::test_nxm_room_simulation_timeout -v"
      ]
    },
    {
      "cell_type": "code",
      "execution_count": null,
      "metadata": {},
      "outputs": [],
      "source": [
        "# Sanity check: Run all tests to ensure everything is working correctly\n",
        "!python -m pytest ../tests/test_agents.py -v"
      ]
    },
    {
      "cell_type": "markdown",
      "metadata": {
        "id": "Ni3M-3YQX3Fw"
      },
      "source": [
        "## Solución de apartados i y ii del problema I\n"
      ]
    },
    {
      "cell_type": "markdown",
      "metadata": {
        "id": "vXveZ5aiX6yP"
      },
      "source": [
        "Describe tu solución aquí.\n"
      ]
    }
  ],
  "metadata": {
    "colab": {
      "provenance": []
    },
    "kernelspec": {
      "display_name": "roomba_lab",
      "language": "python",
      "name": "python3"
    },
    "language_info": {
      "codemirror_mode": {
        "name": "ipython",
        "version": 3
      },
      "file_extension": ".py",
      "mimetype": "text/x-python",
      "name": "python",
      "nbconvert_exporter": "python",
      "pygments_lexer": "ipython3",
      "version": "3.13.3"
    },
    "orig_nbformat": 4
  },
  "nbformat": 4,
  "nbformat_minor": 0
}
